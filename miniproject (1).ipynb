{
  "nbformat": 4,
  "nbformat_minor": 0,
  "metadata": {
    "colab": {
      "provenance": []
    },
    "kernelspec": {
      "name": "python3",
      "display_name": "Python 3"
    },
    "language_info": {
      "name": "python"
    }
  },
  "cells": [
    {
      "cell_type": "markdown",
      "source": [
        "**STOCK PRICE PREDICTION - MINI PROJECT**"
      ],
      "metadata": {
        "id": "_bYScecQ-UJM"
      }
    },
    {
      "cell_type": "markdown",
      "source": [
        "# Stock Price Prediction Project\n",
        "## Step 1: Data Collection\n",
        "This notebook collects historical stock price data for Apple (AAPL) using the `yfinance` library."
      ],
      "metadata": {
        "id": "0y-gP41h-wLb"
      }
    },
    {
      "cell_type": "code",
      "source": [
        "!pip install yfinance"
      ],
      "metadata": {
        "colab": {
          "base_uri": "https://localhost:8080/"
        },
        "id": "PDyKtByUWufl",
        "outputId": "498c2612-2ff1-4221-bcdc-60905a9229f8"
      },
      "execution_count": 2,
      "outputs": [
        {
          "output_type": "stream",
          "name": "stdout",
          "text": [
            "Requirement already satisfied: yfinance in /usr/local/lib/python3.11/dist-packages (0.2.54)\n",
            "Requirement already satisfied: pandas>=1.3.0 in /usr/local/lib/python3.11/dist-packages (from yfinance) (2.2.2)\n",
            "Requirement already satisfied: numpy>=1.16.5 in /usr/local/lib/python3.11/dist-packages (from yfinance) (1.26.4)\n",
            "Requirement already satisfied: requests>=2.31 in /usr/local/lib/python3.11/dist-packages (from yfinance) (2.32.3)\n",
            "Requirement already satisfied: multitasking>=0.0.7 in /usr/local/lib/python3.11/dist-packages (from yfinance) (0.0.11)\n",
            "Requirement already satisfied: platformdirs>=2.0.0 in /usr/local/lib/python3.11/dist-packages (from yfinance) (4.3.6)\n",
            "Requirement already satisfied: pytz>=2022.5 in /usr/local/lib/python3.11/dist-packages (from yfinance) (2025.1)\n",
            "Requirement already satisfied: frozendict>=2.3.4 in /usr/local/lib/python3.11/dist-packages (from yfinance) (2.4.6)\n",
            "Requirement already satisfied: peewee>=3.16.2 in /usr/local/lib/python3.11/dist-packages (from yfinance) (3.17.9)\n",
            "Requirement already satisfied: beautifulsoup4>=4.11.1 in /usr/local/lib/python3.11/dist-packages (from yfinance) (4.13.3)\n",
            "Requirement already satisfied: soupsieve>1.2 in /usr/local/lib/python3.11/dist-packages (from beautifulsoup4>=4.11.1->yfinance) (2.6)\n",
            "Requirement already satisfied: typing-extensions>=4.0.0 in /usr/local/lib/python3.11/dist-packages (from beautifulsoup4>=4.11.1->yfinance) (4.12.2)\n",
            "Requirement already satisfied: python-dateutil>=2.8.2 in /usr/local/lib/python3.11/dist-packages (from pandas>=1.3.0->yfinance) (2.8.2)\n",
            "Requirement already satisfied: tzdata>=2022.7 in /usr/local/lib/python3.11/dist-packages (from pandas>=1.3.0->yfinance) (2025.1)\n",
            "Requirement already satisfied: charset-normalizer<4,>=2 in /usr/local/lib/python3.11/dist-packages (from requests>=2.31->yfinance) (3.4.1)\n",
            "Requirement already satisfied: idna<4,>=2.5 in /usr/local/lib/python3.11/dist-packages (from requests>=2.31->yfinance) (3.10)\n",
            "Requirement already satisfied: urllib3<3,>=1.21.1 in /usr/local/lib/python3.11/dist-packages (from requests>=2.31->yfinance) (2.3.0)\n",
            "Requirement already satisfied: certifi>=2017.4.17 in /usr/local/lib/python3.11/dist-packages (from requests>=2.31->yfinance) (2025.1.31)\n",
            "Requirement already satisfied: six>=1.5 in /usr/local/lib/python3.11/dist-packages (from python-dateutil>=2.8.2->pandas>=1.3.0->yfinance) (1.17.0)\n"
          ]
        }
      ]
    },
    {
      "cell_type": "code",
      "source": [
        "import yfinance as yf"
      ],
      "metadata": {
        "id": "Btw13URNWyGd"
      },
      "execution_count": 3,
      "outputs": []
    },
    {
      "cell_type": "code",
      "source": [
        "# Download Apple stock data from 2018 to 2023\n",
        "data = yf.download('AAPL', start='2018-01-01', end='2023-01-01')"
      ],
      "metadata": {
        "colab": {
          "base_uri": "https://localhost:8080/"
        },
        "id": "UxNoRkfQWtkO",
        "outputId": "22e1924d-5c6c-4ee8-c9db-a13040cccebc"
      },
      "execution_count": 23,
      "outputs": [
        {
          "output_type": "stream",
          "name": "stderr",
          "text": [
            "\r[*********************100%***********************]  1 of 1 completed\n"
          ]
        }
      ]
    },
    {
      "cell_type": "code",
      "source": [
        "print(data.head())"
      ],
      "metadata": {
        "colab": {
          "base_uri": "https://localhost:8080/"
        },
        "id": "eKVzApSXW6fM",
        "outputId": "cfd46f32-d48f-4eb8-cd86-24f52579af19"
      },
      "execution_count": 24,
      "outputs": [
        {
          "output_type": "stream",
          "name": "stdout",
          "text": [
            "Price           Close       High        Low       Open     Volume\n",
            "Ticker           AAPL       AAPL       AAPL       AAPL       AAPL\n",
            "Date                                                             \n",
            "2018-01-02  40.479847  40.489249  39.774869  39.986364  102223600\n",
            "2018-01-03  40.472782  41.017967  40.409337  40.543281  118071600\n",
            "2018-01-04  40.660782  40.764179  40.437540  40.545634   89738400\n",
            "2018-01-05  41.123722  41.210668  40.665487  40.757134   94640000\n",
            "2018-01-08  40.970974  41.267063  40.872274  40.970974   82271200\n"
          ]
        }
      ]
    },
    {
      "cell_type": "code",
      "source": [
        "# Save the data to a CSV file\n",
        "data.to_csv('AAPL_stock_data.csv')"
      ],
      "metadata": {
        "id": "AJNlgYLSXB5V"
      },
      "execution_count": 25,
      "outputs": []
    },
    {
      "cell_type": "markdown",
      "source": [
        "## Step 2: Preprocess the Data\n",
        "Preprocessing involves cleaning, transforming, and organizing the data so that it can be used effectively in model.\n"
      ],
      "metadata": {
        "id": "M_GU5v2rYXtG"
      }
    },
    {
      "cell_type": "code",
      "source": [
        "import pandas as pd\n"
      ],
      "metadata": {
        "id": "c2uDKRvpY_iN"
      },
      "execution_count": 27,
      "outputs": []
    },
    {
      "cell_type": "code",
      "source": [
        "import numpy as np"
      ],
      "metadata": {
        "id": "7eVm49HIwKPe"
      },
      "execution_count": 39,
      "outputs": []
    },
    {
      "cell_type": "code",
      "source": [
        "import matplotlib.pyplot as plt"
      ],
      "metadata": {
        "id": "qtNC4xSWwQWf"
      },
      "execution_count": 40,
      "outputs": []
    },
    {
      "cell_type": "code",
      "source": [
        "from sklearn.model_selection import train_test_split\n",
        "from sklearn.preprocessing import MinMaxScaler"
      ],
      "metadata": {
        "id": "vdX-OXdbwT3Y"
      },
      "execution_count": 41,
      "outputs": []
    },
    {
      "cell_type": "code",
      "source": [
        "print(data.head())"
      ],
      "metadata": {
        "colab": {
          "base_uri": "https://localhost:8080/"
        },
        "id": "5jmeFn9NjRmB",
        "outputId": "b094eb1b-503e-48bc-cc9e-5ef620f33065"
      },
      "execution_count": 42,
      "outputs": [
        {
          "output_type": "stream",
          "name": "stdout",
          "text": [
            "   1       Date      Close       High        Low       Open     Volume  MA_7  \\\n",
            "0  2 2018-01-02  40.479847  40.489249  39.774869  39.986364  102223600   NaN   \n",
            "1  3 2018-01-03  40.472782  41.017967  40.409337  40.543281  118071600   NaN   \n",
            "2  4 2018-01-04  40.660782  40.764179  40.437540  40.545634   89738400   NaN   \n",
            "3  5 2018-01-05  41.123722  41.210668  40.665487  40.757134   94640000   NaN   \n",
            "4  6 2018-01-08  40.970974  41.267063  40.872274  40.970974   82271200   NaN   \n",
            "\n",
            "      Target  \n",
            "0  40.472782  \n",
            "1  40.660782  \n",
            "2  41.123722  \n",
            "3  40.970974  \n",
            "4  40.966278  \n"
          ]
        }
      ]
    },
    {
      "cell_type": "code",
      "source": [
        "data.to_csv('AAPL_stock_data.csv')"
      ],
      "metadata": {
        "id": "FOoFpoDJlIKB"
      },
      "execution_count": 43,
      "outputs": []
    },
    {
      "cell_type": "code",
      "source": [
        "from google.colab import files\n",
        "files.download('AAPL_stock_data.csv')\n"
      ],
      "metadata": {
        "colab": {
          "base_uri": "https://localhost:8080/",
          "height": 17
        },
        "id": "Z67vf87glLNe",
        "outputId": "ce80c2af-3edf-4850-a6e4-4fe69c59a2c8"
      },
      "execution_count": 44,
      "outputs": [
        {
          "output_type": "display_data",
          "data": {
            "text/plain": [
              "<IPython.core.display.Javascript object>"
            ],
            "application/javascript": [
              "\n",
              "    async function download(id, filename, size) {\n",
              "      if (!google.colab.kernel.accessAllowed) {\n",
              "        return;\n",
              "      }\n",
              "      const div = document.createElement('div');\n",
              "      const label = document.createElement('label');\n",
              "      label.textContent = `Downloading \"${filename}\": `;\n",
              "      div.appendChild(label);\n",
              "      const progress = document.createElement('progress');\n",
              "      progress.max = size;\n",
              "      div.appendChild(progress);\n",
              "      document.body.appendChild(div);\n",
              "\n",
              "      const buffers = [];\n",
              "      let downloaded = 0;\n",
              "\n",
              "      const channel = await google.colab.kernel.comms.open(id);\n",
              "      // Send a message to notify the kernel that we're ready.\n",
              "      channel.send({})\n",
              "\n",
              "      for await (const message of channel.messages) {\n",
              "        // Send a message to notify the kernel that we're ready.\n",
              "        channel.send({})\n",
              "        if (message.buffers) {\n",
              "          for (const buffer of message.buffers) {\n",
              "            buffers.push(buffer);\n",
              "            downloaded += buffer.byteLength;\n",
              "            progress.value = downloaded;\n",
              "          }\n",
              "        }\n",
              "      }\n",
              "      const blob = new Blob(buffers, {type: 'application/binary'});\n",
              "      const a = document.createElement('a');\n",
              "      a.href = window.URL.createObjectURL(blob);\n",
              "      a.download = filename;\n",
              "      div.appendChild(a);\n",
              "      a.click();\n",
              "      div.remove();\n",
              "    }\n",
              "  "
            ]
          },
          "metadata": {}
        },
        {
          "output_type": "display_data",
          "data": {
            "text/plain": [
              "<IPython.core.display.Javascript object>"
            ],
            "application/javascript": [
              "download(\"download_1a5e8748-14ea-451a-a90f-c5e716de7990\", \"AAPL_stock_data.csv\", 165524)"
            ]
          },
          "metadata": {}
        }
      ]
    },
    {
      "cell_type": "code",
      "source": [
        "from google.colab import drive\n",
        "drive.mount('/content/drive')"
      ],
      "metadata": {
        "colab": {
          "base_uri": "https://localhost:8080/"
        },
        "id": "8FxfsreEmC3Y",
        "outputId": "0923fe78-ab3e-4bbe-e5a8-d13a9db6e7c9"
      },
      "execution_count": 18,
      "outputs": [
        {
          "output_type": "stream",
          "name": "stdout",
          "text": [
            "Mounted at /content/drive\n"
          ]
        }
      ]
    },
    {
      "cell_type": "code",
      "source": [
        "data.to_csv('/content/drive/My Drive/AAPL_stock_data.csv')"
      ],
      "metadata": {
        "id": "j-KATexgmTHP"
      },
      "execution_count": 19,
      "outputs": []
    },
    {
      "cell_type": "code",
      "source": [
        "# Load the .xlsx file\n",
        "data = pd.read_excel('AAPL_stock_data.xlsx')\n",
        "\n",
        "# Display the first few rows of the data\n",
        "print(data.head())\n"
      ],
      "metadata": {
        "colab": {
          "base_uri": "https://localhost:8080/"
        },
        "id": "Q313YTGRtfxe",
        "outputId": "b501b55b-6ccf-47d5-af42-d38b87a8d50d"
      },
      "execution_count": 45,
      "outputs": [
        {
          "output_type": "stream",
          "name": "stdout",
          "text": [
            "   1       Date      Close       High        Low       Open     Volume\n",
            "0  2 2018-01-02  40.479847  40.489249  39.774869  39.986364  102223600\n",
            "1  3 2018-01-03  40.472782  41.017967  40.409337  40.543281  118071600\n",
            "2  4 2018-01-04  40.660782  40.764179  40.437540  40.545634   89738400\n",
            "3  5 2018-01-05  41.123722  41.210668  40.665487  40.757134   94640000\n",
            "4  6 2018-01-08  40.970974  41.267063  40.872274  40.970974   82271200\n"
          ]
        }
      ]
    },
    {
      "cell_type": "code",
      "source": [
        "data.to_csv('AAPL_stock_data_fixed.csv')\n"
      ],
      "metadata": {
        "id": "iP3NN3NLvMt8"
      },
      "execution_count": 46,
      "outputs": []
    },
    {
      "cell_type": "code",
      "source": [
        "print(data.isnull().sum())  # Check for missing values\n",
        "data = data.dropna()  # Drop rows with missing values\n"
      ],
      "metadata": {
        "colab": {
          "base_uri": "https://localhost:8080/"
        },
        "id": "E_HcI6KkvQYg",
        "outputId": "2665b47a-1dc4-468e-8aca-faaf3ad78d69"
      },
      "execution_count": 47,
      "outputs": [
        {
          "output_type": "stream",
          "name": "stdout",
          "text": [
            "1         0\n",
            "Date      0\n",
            "Close     0\n",
            "High      0\n",
            "Low       0\n",
            "Open      0\n",
            "Volume    0\n",
            "dtype: int64\n"
          ]
        }
      ]
    },
    {
      "cell_type": "code",
      "source": [
        "# Example: Create a 7-day moving average\n",
        "data['MA_7'] = data['Close'].rolling(window=7).mean()"
      ],
      "metadata": {
        "id": "PzrMJD-vvWVk"
      },
      "execution_count": 48,
      "outputs": []
    },
    {
      "cell_type": "code",
      "source": [
        "data['Target'] = data['Close'].shift(-1)  # Next day's closing price"
      ],
      "metadata": {
        "id": "Nxy1sXy1vYll"
      },
      "execution_count": 49,
      "outputs": []
    },
    {
      "cell_type": "code",
      "source": [
        "print(data.columns)"
      ],
      "metadata": {
        "colab": {
          "base_uri": "https://localhost:8080/"
        },
        "id": "2NksR3vfyxrz",
        "outputId": "f88214a7-448c-4274-89c8-896ceb2709a0"
      },
      "execution_count": 51,
      "outputs": [
        {
          "output_type": "stream",
          "name": "stdout",
          "text": [
            "Index([1, 'Date', 'Close', 'High', 'Low', 'Open', 'Volume', 'MA_7', 'Target'], dtype='object')\n"
          ]
        }
      ]
    },
    {
      "cell_type": "code",
      "source": [
        "# Convert column names to strings\n",
        "data.columns = data.columns.astype(str)\n",
        "\n",
        "# Check the column names again\n",
        "print(data.columns)"
      ],
      "metadata": {
        "colab": {
          "base_uri": "https://localhost:8080/"
        },
        "id": "IzgEvPZ8y_UD",
        "outputId": "c819cf48-d64d-408e-b833-3c59292f7dbe"
      },
      "execution_count": 52,
      "outputs": [
        {
          "output_type": "stream",
          "name": "stdout",
          "text": [
            "Index(['1', 'Date', 'Close', 'High', 'Low', 'Open', 'Volume', 'MA_7',\n",
            "       'Target'],\n",
            "      dtype='object')\n"
          ]
        }
      ]
    },
    {
      "cell_type": "code",
      "source": [
        "# Create the target variable (e.g., next day's closing price)\n",
        "data['Target'] = data['Close'].shift(-1)\n",
        "\n",
        "# Drop the last row (since it won't have a target value)\n",
        "data = data.dropna()"
      ],
      "metadata": {
        "id": "aMmjXWMWzA7N"
      },
      "execution_count": 53,
      "outputs": []
    },
    {
      "cell_type": "code",
      "source": [
        "import pandas as pd\n",
        "from sklearn.preprocessing import MinMaxScaler\n",
        "\n",
        "# Convert DateTime column to string or drop it\n",
        "if 'Date' in data.columns:\n",
        "    data = data.drop(columns=['Date'])  # Drop Date column\n",
        "    # OR\n",
        "    # data['Date'] = data['Date'].astype(str)  # Convert Date column to string if needed\n",
        "\n",
        "# Initialize the scaler\n",
        "scaler = MinMaxScaler()\n",
        "\n",
        "# Select only numeric columns (excluding target variable)\n",
        "numeric_columns = data.select_dtypes(include=['number']).columns\n",
        "numeric_columns = numeric_columns.drop('Target')  # Exclude target column\n",
        "\n",
        "# Scale the features\n",
        "scaled_features = scaler.fit_transform(data[numeric_columns])\n",
        "\n",
        "# Convert back to DataFrame\n",
        "scaled_data = pd.DataFrame(scaled_features, columns=numeric_columns, index=data.index)\n",
        "\n",
        "# Add the target variable back\n",
        "scaled_data['Target'] = data['Target'].values\n",
        "\n",
        "# Display the first few rows\n",
        "print(scaled_data.head())\n"
      ],
      "metadata": {
        "colab": {
          "base_uri": "https://localhost:8080/"
        },
        "id": "1DGy3ZmK0Gt7",
        "outputId": "6a6277f8-a89c-493c-c15f-fca1b6872604"
      },
      "execution_count": 55,
      "outputs": [
        {
          "output_type": "stream",
          "name": "stdout",
          "text": [
            "           1     Close      High       Low      Open    Volume      MA_7  \\\n",
            "6   0.000000  0.048575  0.042762  0.047716  0.043743  0.154974  0.036085   \n",
            "7   0.000799  0.050180  0.044690  0.050179  0.046058  0.100878  0.036805   \n",
            "8   0.001599  0.053114  0.047719  0.052096  0.048632  0.169880  0.037965   \n",
            "9   0.002398  0.051655  0.051008  0.052906  0.051417  0.212279  0.038719   \n",
            "10  0.003197  0.056372  0.050782  0.051138  0.048583  0.261558  0.039697   \n",
            "\n",
            "       Target  \n",
            "6   41.189518  \n",
            "7   41.614857  \n",
            "8   41.403358  \n",
            "9   42.087181  \n",
            "10  42.124779  \n"
          ]
        }
      ]
    },
    {
      "cell_type": "code",
      "source": [
        "# Save the scaled data to a CSV file\n",
        "scaled_data.to_csv(\"scaled_stock_data.csv\", index=False)\n",
        "print(\"Scaled data saved successfully.\")\n"
      ],
      "metadata": {
        "colab": {
          "base_uri": "https://localhost:8080/"
        },
        "id": "pL-_cb2Z0yXd",
        "outputId": "d6aee09b-0ec1-470a-8817-69a41b04435b"
      },
      "execution_count": 56,
      "outputs": [
        {
          "output_type": "stream",
          "name": "stdout",
          "text": [
            "Scaled data saved successfully.\n"
          ]
        }
      ]
    },
    {
      "cell_type": "code",
      "source": [
        "from sklearn.model_selection import train_test_split\n",
        "\n",
        "# Define input features (X) and target variable (y)\n",
        "X = scaled_data.drop(columns=['Target'])  # All columns except target\n",
        "y = scaled_data['Target']  # Target column\n",
        "\n",
        "# Split into training (80%) and testing (20%) sets\n",
        "X_train, X_test, y_train, y_test = train_test_split(X, y, test_size=0.2, random_state=42, shuffle=True)\n",
        "\n",
        "# Print shapes to verify\n",
        "print(f\"X_train shape: {X_train.shape}, y_train shape: {y_train.shape}\")\n",
        "print(f\"X_test shape: {X_test.shape}, y_test shape: {y_test.shape}\")\n"
      ],
      "metadata": {
        "colab": {
          "base_uri": "https://localhost:8080/"
        },
        "id": "GZIkxsHF00zx",
        "outputId": "4c494179-9e51-459b-e768-92f8511145bc"
      },
      "execution_count": 57,
      "outputs": [
        {
          "output_type": "stream",
          "name": "stdout",
          "text": [
            "X_train shape: (1001, 7), y_train shape: (1001,)\n",
            "X_test shape: (251, 7), y_test shape: (251,)\n"
          ]
        }
      ]
    },
    {
      "cell_type": "code",
      "source": [
        "# Save training set\n",
        "X_train.to_csv(\"X_train.csv\", index=False)\n",
        "y_train.to_csv(\"y_train.csv\", index=False)\n",
        "\n",
        "# Save testing set\n",
        "X_test.to_csv(\"X_test.csv\", index=False)\n",
        "y_test.to_csv(\"y_test.csv\", index=False)\n",
        "\n",
        "print(\"Train and test datasets saved successfully.\")\n"
      ],
      "metadata": {
        "colab": {
          "base_uri": "https://localhost:8080/"
        },
        "id": "eHNGLf8M1rTp",
        "outputId": "136dcaa8-3a17-44a3-cf7c-89da6e51b13f"
      },
      "execution_count": 58,
      "outputs": [
        {
          "output_type": "stream",
          "name": "stdout",
          "text": [
            "Train and test datasets saved successfully.\n"
          ]
        }
      ]
    }
  ]
}